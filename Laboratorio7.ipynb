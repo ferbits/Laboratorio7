{
  "nbformat": 4,
  "nbformat_minor": 0,
  "metadata": {
    "colab": {
      "provenance": [],
      "mount_file_id": "1GKD4CV2GGckEIDwB2lxvkWIzTZ7vSwus",
      "authorship_tag": "ABX9TyNHgjYoXDkayCiG/2okDKjp",
      "include_colab_link": true
    },
    "kernelspec": {
      "name": "python3",
      "display_name": "Python 3"
    },
    "language_info": {
      "name": "python"
    }
  },
  "cells": [
    {
      "cell_type": "markdown",
      "metadata": {
        "id": "view-in-github",
        "colab_type": "text"
      },
      "source": [
        "<a href=\"https://colab.research.google.com/github/ferbits/Laboratorio7/blob/main/Laboratorio7.ipynb\" target=\"_parent\"><img src=\"https://colab.research.google.com/assets/colab-badge.svg\" alt=\"Open In Colab\"/></a>"
      ]
    },
    {
      "cell_type": "code",
      "source": [
        "PARTE UNO DEL LABORATORIO 7"
      ],
      "metadata": {
        "id": "a_Tqo4w5IjWJ"
      },
      "execution_count": null,
      "outputs": []
    },
    {
      "cell_type": "markdown",
      "source": [],
      "metadata": {
        "id": "jHwkXQrKIhbC"
      }
    },
    {
      "cell_type": "markdown",
      "source": [
        "#Crear un DataFrame con los nombres, profesión y países de 8 personas, y luego imprimir el DataFrame."
      ],
      "metadata": {
        "id": "At2Bbfjszxnm"
      }
    },
    {
      "cell_type": "code",
      "execution_count": null,
      "metadata": {
        "id": "Jk3Et8sIVW_L",
        "outputId": "d87a67d0-30a7-4faf-cd12-c4c3dc5c3187",
        "colab": {
          "base_uri": "https://localhost:8080/"
        }
      },
      "outputs": [
        {
          "output_type": "stream",
          "name": "stdout",
          "text": [
            "    Nombre   Profesión            País\n",
            "0     José    Contador        Colombia\n",
            "1  Natalia   Ingeniero            Perú\n",
            "2  Mariana      Médico  Estados Unidos\n",
            "3   Samuel    Profesor       Argentina\n",
            "4  Liliana  Arquitecto        Paraguai\n",
            "5     Joan   Diseñador         Ecuador\n",
            "6   Andrés     Biologo       Venezuela\n",
            "7   Jordan     Abogado          España\n"
          ]
        }
      ],
      "source": [
        "import pandas as pd\n",
        "data = {'Nombre': ['José', 'Natalia', 'Mariana', 'Samuel','Liliana','Joan','Andrés','Jordan'],\n",
        "        'Profesión': ['Contador', 'Ingeniero', 'Médico','Profesor','Arquitecto','Diseñador','Biologo','Abogado'],\n",
        "        'País': ['Colombia', 'Perú', 'Estados Unidos', 'Argentina','Paraguay','Ecuador','Venezuela','España']}\n",
        "df = pd.DataFrame(data)\n",
        "print(df)"
      ]
    },
    {
      "cell_type": "markdown",
      "source": [
        "#**Cargar un archivo CSV ** **texto en negrita** **texto en negrita**"
      ],
      "metadata": {
        "id": "_cKSDlQj3AOV"
      }
    },
    {
      "cell_type": "code",
      "source": [
        "import pandas as pd\n",
        "df=pd.read_csv('/content/drive/MyDrive/autor.csv')\n",
        "print(df.head(5))"
      ],
      "metadata": {
        "colab": {
          "base_uri": "https://localhost:8080/"
        },
        "id": "hM-8olhM3GmH",
        "outputId": "b8ed8a71-2653-40ed-d9fa-e0fb189c3edc"
      },
      "execution_count": null,
      "outputs": [
        {
          "output_type": "stream",
          "name": "stdout",
          "text": [
            "   id_autor            nombre_autor nacionalidad_autor\n",
            "0         1  Gabriel García Marquez         Colombiano\n",
            "1         2             Tim Harford          Británico\n",
            "2         3         Daniel Kahneman            Israelí\n",
            "3         4              Dan Ariely     Estadounidense\n",
            "4         5  Miguel de Cervantes S.            Español\n"
          ]
        }
      ]
    },
    {
      "cell_type": "markdown",
      "source": [
        "#**Crear un DataFrame con valores aleatorios**"
      ],
      "metadata": {
        "id": "gZ_iMsKmEzvs"
      }
    },
    {
      "cell_type": "code",
      "source": [
        "import pandas as pd\n",
        "import numpy as np\n",
        "df = pd.DataFrame(np.random.rand(100,8))\n",
        "df.describe()"
      ],
      "metadata": {
        "colab": {
          "base_uri": "https://localhost:8080/",
          "height": 300
        },
        "id": "nKb6uXQ-JB2S",
        "outputId": "c0e7d30d-37d8-4803-aa33-3ea130844f2b"
      },
      "execution_count": null,
      "outputs": [
        {
          "output_type": "execute_result",
          "data": {
            "text/plain": [
              "                0           1           2           3           4           5  \\\n",
              "count  100.000000  100.000000  100.000000  100.000000  100.000000  100.000000   \n",
              "mean     0.469636    0.485322    0.519619    0.482950    0.489604    0.464131   \n",
              "std      0.296118    0.317302    0.318259    0.283131    0.298493    0.278979   \n",
              "min      0.004997    0.002661    0.007810    0.006373    0.000250    0.030842   \n",
              "25%      0.188940    0.197512    0.243737    0.245153    0.206520    0.217522   \n",
              "50%      0.469138    0.473016    0.563169    0.513527    0.514758    0.459073   \n",
              "75%      0.729201    0.789161    0.809056    0.708239    0.749766    0.683965   \n",
              "max      0.981956    0.982142    0.988894    0.989322    0.997252    0.999461   \n",
              "\n",
              "                6           7  \n",
              "count  100.000000  100.000000  \n",
              "mean     0.468467    0.475226  \n",
              "std      0.276370    0.283750  \n",
              "min      0.001460    0.001573  \n",
              "25%      0.238599    0.239025  \n",
              "50%      0.447383    0.482307  \n",
              "75%      0.688867    0.740761  \n",
              "max      0.989461    0.998301  "
            ],
            "text/html": [
              "\n",
              "  <div id=\"df-10f668b6-a04e-4198-af47-7339aeefdc72\" class=\"colab-df-container\">\n",
              "    <div>\n",
              "<style scoped>\n",
              "    .dataframe tbody tr th:only-of-type {\n",
              "        vertical-align: middle;\n",
              "    }\n",
              "\n",
              "    .dataframe tbody tr th {\n",
              "        vertical-align: top;\n",
              "    }\n",
              "\n",
              "    .dataframe thead th {\n",
              "        text-align: right;\n",
              "    }\n",
              "</style>\n",
              "<table border=\"1\" class=\"dataframe\">\n",
              "  <thead>\n",
              "    <tr style=\"text-align: right;\">\n",
              "      <th></th>\n",
              "      <th>0</th>\n",
              "      <th>1</th>\n",
              "      <th>2</th>\n",
              "      <th>3</th>\n",
              "      <th>4</th>\n",
              "      <th>5</th>\n",
              "      <th>6</th>\n",
              "      <th>7</th>\n",
              "    </tr>\n",
              "  </thead>\n",
              "  <tbody>\n",
              "    <tr>\n",
              "      <th>count</th>\n",
              "      <td>100.000000</td>\n",
              "      <td>100.000000</td>\n",
              "      <td>100.000000</td>\n",
              "      <td>100.000000</td>\n",
              "      <td>100.000000</td>\n",
              "      <td>100.000000</td>\n",
              "      <td>100.000000</td>\n",
              "      <td>100.000000</td>\n",
              "    </tr>\n",
              "    <tr>\n",
              "      <th>mean</th>\n",
              "      <td>0.469636</td>\n",
              "      <td>0.485322</td>\n",
              "      <td>0.519619</td>\n",
              "      <td>0.482950</td>\n",
              "      <td>0.489604</td>\n",
              "      <td>0.464131</td>\n",
              "      <td>0.468467</td>\n",
              "      <td>0.475226</td>\n",
              "    </tr>\n",
              "    <tr>\n",
              "      <th>std</th>\n",
              "      <td>0.296118</td>\n",
              "      <td>0.317302</td>\n",
              "      <td>0.318259</td>\n",
              "      <td>0.283131</td>\n",
              "      <td>0.298493</td>\n",
              "      <td>0.278979</td>\n",
              "      <td>0.276370</td>\n",
              "      <td>0.283750</td>\n",
              "    </tr>\n",
              "    <tr>\n",
              "      <th>min</th>\n",
              "      <td>0.004997</td>\n",
              "      <td>0.002661</td>\n",
              "      <td>0.007810</td>\n",
              "      <td>0.006373</td>\n",
              "      <td>0.000250</td>\n",
              "      <td>0.030842</td>\n",
              "      <td>0.001460</td>\n",
              "      <td>0.001573</td>\n",
              "    </tr>\n",
              "    <tr>\n",
              "      <th>25%</th>\n",
              "      <td>0.188940</td>\n",
              "      <td>0.197512</td>\n",
              "      <td>0.243737</td>\n",
              "      <td>0.245153</td>\n",
              "      <td>0.206520</td>\n",
              "      <td>0.217522</td>\n",
              "      <td>0.238599</td>\n",
              "      <td>0.239025</td>\n",
              "    </tr>\n",
              "    <tr>\n",
              "      <th>50%</th>\n",
              "      <td>0.469138</td>\n",
              "      <td>0.473016</td>\n",
              "      <td>0.563169</td>\n",
              "      <td>0.513527</td>\n",
              "      <td>0.514758</td>\n",
              "      <td>0.459073</td>\n",
              "      <td>0.447383</td>\n",
              "      <td>0.482307</td>\n",
              "    </tr>\n",
              "    <tr>\n",
              "      <th>75%</th>\n",
              "      <td>0.729201</td>\n",
              "      <td>0.789161</td>\n",
              "      <td>0.809056</td>\n",
              "      <td>0.708239</td>\n",
              "      <td>0.749766</td>\n",
              "      <td>0.683965</td>\n",
              "      <td>0.688867</td>\n",
              "      <td>0.740761</td>\n",
              "    </tr>\n",
              "    <tr>\n",
              "      <th>max</th>\n",
              "      <td>0.981956</td>\n",
              "      <td>0.982142</td>\n",
              "      <td>0.988894</td>\n",
              "      <td>0.989322</td>\n",
              "      <td>0.997252</td>\n",
              "      <td>0.999461</td>\n",
              "      <td>0.989461</td>\n",
              "      <td>0.998301</td>\n",
              "    </tr>\n",
              "  </tbody>\n",
              "</table>\n",
              "</div>\n",
              "    <div class=\"colab-df-buttons\">\n",
              "\n",
              "  <div class=\"colab-df-container\">\n",
              "    <button class=\"colab-df-convert\" onclick=\"convertToInteractive('df-10f668b6-a04e-4198-af47-7339aeefdc72')\"\n",
              "            title=\"Convert this dataframe to an interactive table.\"\n",
              "            style=\"display:none;\">\n",
              "\n",
              "  <svg xmlns=\"http://www.w3.org/2000/svg\" height=\"24px\" viewBox=\"0 -960 960 960\">\n",
              "    <path d=\"M120-120v-720h720v720H120Zm60-500h600v-160H180v160Zm220 220h160v-160H400v160Zm0 220h160v-160H400v160ZM180-400h160v-160H180v160Zm440 0h160v-160H620v160ZM180-180h160v-160H180v160Zm440 0h160v-160H620v160Z\"/>\n",
              "  </svg>\n",
              "    </button>\n",
              "\n",
              "  <style>\n",
              "    .colab-df-container {\n",
              "      display:flex;\n",
              "      gap: 12px;\n",
              "    }\n",
              "\n",
              "    .colab-df-convert {\n",
              "      background-color: #E8F0FE;\n",
              "      border: none;\n",
              "      border-radius: 50%;\n",
              "      cursor: pointer;\n",
              "      display: none;\n",
              "      fill: #1967D2;\n",
              "      height: 32px;\n",
              "      padding: 0 0 0 0;\n",
              "      width: 32px;\n",
              "    }\n",
              "\n",
              "    .colab-df-convert:hover {\n",
              "      background-color: #E2EBFA;\n",
              "      box-shadow: 0px 1px 2px rgba(60, 64, 67, 0.3), 0px 1px 3px 1px rgba(60, 64, 67, 0.15);\n",
              "      fill: #174EA6;\n",
              "    }\n",
              "\n",
              "    .colab-df-buttons div {\n",
              "      margin-bottom: 4px;\n",
              "    }\n",
              "\n",
              "    [theme=dark] .colab-df-convert {\n",
              "      background-color: #3B4455;\n",
              "      fill: #D2E3FC;\n",
              "    }\n",
              "\n",
              "    [theme=dark] .colab-df-convert:hover {\n",
              "      background-color: #434B5C;\n",
              "      box-shadow: 0px 1px 3px 1px rgba(0, 0, 0, 0.15);\n",
              "      filter: drop-shadow(0px 1px 2px rgba(0, 0, 0, 0.3));\n",
              "      fill: #FFFFFF;\n",
              "    }\n",
              "  </style>\n",
              "\n",
              "    <script>\n",
              "      const buttonEl =\n",
              "        document.querySelector('#df-10f668b6-a04e-4198-af47-7339aeefdc72 button.colab-df-convert');\n",
              "      buttonEl.style.display =\n",
              "        google.colab.kernel.accessAllowed ? 'block' : 'none';\n",
              "\n",
              "      async function convertToInteractive(key) {\n",
              "        const element = document.querySelector('#df-10f668b6-a04e-4198-af47-7339aeefdc72');\n",
              "        const dataTable =\n",
              "          await google.colab.kernel.invokeFunction('convertToInteractive',\n",
              "                                                    [key], {});\n",
              "        if (!dataTable) return;\n",
              "\n",
              "        const docLinkHtml = 'Like what you see? Visit the ' +\n",
              "          '<a target=\"_blank\" href=https://colab.research.google.com/notebooks/data_table.ipynb>data table notebook</a>'\n",
              "          + ' to learn more about interactive tables.';\n",
              "        element.innerHTML = '';\n",
              "        dataTable['output_type'] = 'display_data';\n",
              "        await google.colab.output.renderOutput(dataTable, element);\n",
              "        const docLink = document.createElement('div');\n",
              "        docLink.innerHTML = docLinkHtml;\n",
              "        element.appendChild(docLink);\n",
              "      }\n",
              "    </script>\n",
              "  </div>\n",
              "\n",
              "\n",
              "<div id=\"df-62fb5326-e05b-4777-9e72-b575804e579f\">\n",
              "  <button class=\"colab-df-quickchart\" onclick=\"quickchart('df-62fb5326-e05b-4777-9e72-b575804e579f')\"\n",
              "            title=\"Suggest charts\"\n",
              "            style=\"display:none;\">\n",
              "\n",
              "<svg xmlns=\"http://www.w3.org/2000/svg\" height=\"24px\"viewBox=\"0 0 24 24\"\n",
              "     width=\"24px\">\n",
              "    <g>\n",
              "        <path d=\"M19 3H5c-1.1 0-2 .9-2 2v14c0 1.1.9 2 2 2h14c1.1 0 2-.9 2-2V5c0-1.1-.9-2-2-2zM9 17H7v-7h2v7zm4 0h-2V7h2v10zm4 0h-2v-4h2v4z\"/>\n",
              "    </g>\n",
              "</svg>\n",
              "  </button>\n",
              "\n",
              "<style>\n",
              "  .colab-df-quickchart {\n",
              "      --bg-color: #E8F0FE;\n",
              "      --fill-color: #1967D2;\n",
              "      --hover-bg-color: #E2EBFA;\n",
              "      --hover-fill-color: #174EA6;\n",
              "      --disabled-fill-color: #AAA;\n",
              "      --disabled-bg-color: #DDD;\n",
              "  }\n",
              "\n",
              "  [theme=dark] .colab-df-quickchart {\n",
              "      --bg-color: #3B4455;\n",
              "      --fill-color: #D2E3FC;\n",
              "      --hover-bg-color: #434B5C;\n",
              "      --hover-fill-color: #FFFFFF;\n",
              "      --disabled-bg-color: #3B4455;\n",
              "      --disabled-fill-color: #666;\n",
              "  }\n",
              "\n",
              "  .colab-df-quickchart {\n",
              "    background-color: var(--bg-color);\n",
              "    border: none;\n",
              "    border-radius: 50%;\n",
              "    cursor: pointer;\n",
              "    display: none;\n",
              "    fill: var(--fill-color);\n",
              "    height: 32px;\n",
              "    padding: 0;\n",
              "    width: 32px;\n",
              "  }\n",
              "\n",
              "  .colab-df-quickchart:hover {\n",
              "    background-color: var(--hover-bg-color);\n",
              "    box-shadow: 0 1px 2px rgba(60, 64, 67, 0.3), 0 1px 3px 1px rgba(60, 64, 67, 0.15);\n",
              "    fill: var(--button-hover-fill-color);\n",
              "  }\n",
              "\n",
              "  .colab-df-quickchart-complete:disabled,\n",
              "  .colab-df-quickchart-complete:disabled:hover {\n",
              "    background-color: var(--disabled-bg-color);\n",
              "    fill: var(--disabled-fill-color);\n",
              "    box-shadow: none;\n",
              "  }\n",
              "\n",
              "  .colab-df-spinner {\n",
              "    border: 2px solid var(--fill-color);\n",
              "    border-color: transparent;\n",
              "    border-bottom-color: var(--fill-color);\n",
              "    animation:\n",
              "      spin 1s steps(1) infinite;\n",
              "  }\n",
              "\n",
              "  @keyframes spin {\n",
              "    0% {\n",
              "      border-color: transparent;\n",
              "      border-bottom-color: var(--fill-color);\n",
              "      border-left-color: var(--fill-color);\n",
              "    }\n",
              "    20% {\n",
              "      border-color: transparent;\n",
              "      border-left-color: var(--fill-color);\n",
              "      border-top-color: var(--fill-color);\n",
              "    }\n",
              "    30% {\n",
              "      border-color: transparent;\n",
              "      border-left-color: var(--fill-color);\n",
              "      border-top-color: var(--fill-color);\n",
              "      border-right-color: var(--fill-color);\n",
              "    }\n",
              "    40% {\n",
              "      border-color: transparent;\n",
              "      border-right-color: var(--fill-color);\n",
              "      border-top-color: var(--fill-color);\n",
              "    }\n",
              "    60% {\n",
              "      border-color: transparent;\n",
              "      border-right-color: var(--fill-color);\n",
              "    }\n",
              "    80% {\n",
              "      border-color: transparent;\n",
              "      border-right-color: var(--fill-color);\n",
              "      border-bottom-color: var(--fill-color);\n",
              "    }\n",
              "    90% {\n",
              "      border-color: transparent;\n",
              "      border-bottom-color: var(--fill-color);\n",
              "    }\n",
              "  }\n",
              "</style>\n",
              "\n",
              "  <script>\n",
              "    async function quickchart(key) {\n",
              "      const quickchartButtonEl =\n",
              "        document.querySelector('#' + key + ' button');\n",
              "      quickchartButtonEl.disabled = true;  // To prevent multiple clicks.\n",
              "      quickchartButtonEl.classList.add('colab-df-spinner');\n",
              "      try {\n",
              "        const charts = await google.colab.kernel.invokeFunction(\n",
              "            'suggestCharts', [key], {});\n",
              "      } catch (error) {\n",
              "        console.error('Error during call to suggestCharts:', error);\n",
              "      }\n",
              "      quickchartButtonEl.classList.remove('colab-df-spinner');\n",
              "      quickchartButtonEl.classList.add('colab-df-quickchart-complete');\n",
              "    }\n",
              "    (() => {\n",
              "      let quickchartButtonEl =\n",
              "        document.querySelector('#df-62fb5326-e05b-4777-9e72-b575804e579f button');\n",
              "      quickchartButtonEl.style.display =\n",
              "        google.colab.kernel.accessAllowed ? 'block' : 'none';\n",
              "    })();\n",
              "  </script>\n",
              "</div>\n",
              "\n",
              "    </div>\n",
              "  </div>\n"
            ],
            "application/vnd.google.colaboratory.intrinsic+json": {
              "type": "dataframe",
              "summary": "{\n  \"name\": \"df\",\n  \"rows\": 8,\n  \"fields\": [\n    {\n      \"column\": 0,\n      \"properties\": {\n        \"dtype\": \"number\",\n        \"std\": 35.19806799427116,\n        \"min\": 0.004996706965307185,\n        \"max\": 100.0,\n        \"num_unique_values\": 8,\n        \"samples\": [\n          0.46963555189890227,\n          0.46913842006910933,\n          100.0\n        ],\n        \"semantic_type\": \"\",\n        \"description\": \"\"\n      }\n    },\n    {\n      \"column\": 1,\n      \"properties\": {\n        \"dtype\": \"number\",\n        \"std\": 35.192715374719846,\n        \"min\": 0.0026607693767083385,\n        \"max\": 100.0,\n        \"num_unique_values\": 8,\n        \"samples\": [\n          0.4853221019338196,\n          0.4730157510459184,\n          100.0\n        ],\n        \"semantic_type\": \"\",\n        \"description\": \"\"\n      }\n    },\n    {\n      \"column\": 2,\n      \"properties\": {\n        \"dtype\": \"number\",\n        \"std\": 35.1824399260164,\n        \"min\": 0.007810254153216456,\n        \"max\": 100.0,\n        \"num_unique_values\": 8,\n        \"samples\": [\n          0.5196188084235396,\n          0.5631686709842694,\n          100.0\n        ],\n        \"semantic_type\": \"\",\n        \"description\": \"\"\n      }\n    },\n    {\n      \"column\": 3,\n      \"properties\": {\n        \"dtype\": \"number\",\n        \"std\": 35.19354081254738,\n        \"min\": 0.0063729645597717655,\n        \"max\": 100.0,\n        \"num_unique_values\": 8,\n        \"samples\": [\n          0.48295010802321825,\n          0.5135266453253365,\n          100.0\n        ],\n        \"semantic_type\": \"\",\n        \"description\": \"\"\n      }\n    },\n    {\n      \"column\": 4,\n      \"properties\": {\n        \"dtype\": \"number\",\n        \"std\": 35.192229865703695,\n        \"min\": 0.0002503653478550527,\n        \"max\": 100.0,\n        \"num_unique_values\": 8,\n        \"samples\": [\n          0.4896044204814895,\n          0.5147582733761966,\n          100.0\n        ],\n        \"semantic_type\": \"\",\n        \"description\": \"\"\n      }\n    },\n    {\n      \"column\": 5,\n      \"properties\": {\n        \"dtype\": \"number\",\n        \"std\": 35.19829932426831,\n        \"min\": 0.03084241477637928,\n        \"max\": 100.0,\n        \"num_unique_values\": 8,\n        \"samples\": [\n          0.4641312778569015,\n          0.4590730446838487,\n          100.0\n        ],\n        \"semantic_type\": \"\",\n        \"description\": \"\"\n      }\n    },\n    {\n      \"column\": 6,\n      \"properties\": {\n        \"dtype\": \"number\",\n        \"std\": 35.199496445815996,\n        \"min\": 0.0014598901529373487,\n        \"max\": 100.0,\n        \"num_unique_values\": 8,\n        \"samples\": [\n          0.46846660098372445,\n          0.44738317432869235,\n          100.0\n        ],\n        \"semantic_type\": \"\",\n        \"description\": \"\"\n      }\n    },\n    {\n      \"column\": 7,\n      \"properties\": {\n        \"dtype\": \"number\",\n        \"std\": 35.19399512776299,\n        \"min\": 0.001572813588361921,\n        \"max\": 100.0,\n        \"num_unique_values\": 8,\n        \"samples\": [\n          0.4752264121814242,\n          0.4823067840892568,\n          100.0\n        ],\n        \"semantic_type\": \"\",\n        \"description\": \"\"\n      }\n    }\n  ]\n}"
            }
          },
          "metadata": {},
          "execution_count": 8
        }
      ]
    },
    {
      "cell_type": "markdown",
      "source": [
        "**PARTE 2 DEL LABORATORIO 7**"
      ],
      "metadata": {
        "id": "--zvrJMjJemu"
      }
    },
    {
      "cell_type": "code",
      "source": [
        "# Importamos la librería numpy\n",
        "import numpy as np\n",
        "\n",
        "# Creamos un array de números del 1 al 10\n",
        "numeros = np.arange(1, 11)\n",
        "\n",
        "# Calculamos la suma de todos los elementos del array\n",
        "suma = np.sum(numeros)\n",
        "\n",
        "# Calculamos la media de todos los elementos del array\n",
        "media = np.mean(numeros)\n",
        "\n",
        "# Obtenemos el valor máximo del array\n",
        "valor_maximo = np.max(numeros)\n",
        "\n",
        "# Mostramos los resultados\n",
        "print(\"Array de números:\", numeros)\n",
        "print(\"Suma:\", suma)\n",
        "print(\"Media:\", media)\n",
        "print(\"Valor máximo:\", valor_maximo)"
      ],
      "metadata": {
        "colab": {
          "base_uri": "https://localhost:8080/"
        },
        "id": "90fGcuG2J9Ci",
        "outputId": "787dd802-6e30-4ee1-c3d1-f885263c6646"
      },
      "execution_count": null,
      "outputs": [
        {
          "output_type": "stream",
          "name": "stdout",
          "text": [
            "Array de números: [ 1  2  3  4  5  6  7  8  9 10]\n",
            "Suma: 55\n",
            "Media: 5.5\n",
            "Valor máximo: 10\n"
          ]
        }
      ]
    },
    {
      "cell_type": "markdown",
      "source": [
        "Arreglo de 3 por 4 lleno de ceros con posterior modificación."
      ],
      "metadata": {
        "id": "LdR3uLC6L3QY"
      }
    },
    {
      "cell_type": "code",
      "source": [
        "import numpy as np  # Importamos la biblioteca numpy para trabajar con arrays\n",
        "\n",
        "# Creamos un array de 3x4 lleno de ceros\n",
        "arreglo_1=np.zeros((3,4))\n",
        "print(\"Arreglo original 3x4:\")\n",
        "print(arreglo_1)\n",
        "\n",
        "# Cambiamos la forma del array a 2x6\n",
        "arreglo_2=arreglo_1.reshape(2,6)\n",
        "print(\"\\nArreglo cambiado a la forma 2x6:\")\n",
        "print(arreglo_2)"
      ],
      "metadata": {
        "colab": {
          "base_uri": "https://localhost:8080/"
        },
        "id": "smWEPkXPL7gf",
        "outputId": "2f057c5a-aba6-48bf-a1f3-02e66a3432e4"
      },
      "execution_count": null,
      "outputs": [
        {
          "output_type": "stream",
          "name": "stdout",
          "text": [
            "Arreglo original 3x4:\n",
            "[[0. 0. 0. 0.]\n",
            " [0. 0. 0. 0.]\n",
            " [0. 0. 0. 0.]]\n",
            "\n",
            "Arreglo cambiado a la forma 2x6:\n",
            "[[0. 0. 0. 0. 0. 0.]\n",
            " [0. 0. 0. 0. 0. 0.]]\n"
          ]
        }
      ]
    },
    {
      "cell_type": "markdown",
      "source": [
        "Matriz Traspuesta"
      ],
      "metadata": {
        "id": "gX2IzYixOYoR"
      }
    },
    {
      "cell_type": "code",
      "source": [
        "# Importamos la librería numpy y la nombramos como np para simplificar el uso\n",
        "# de sus funciones\n",
        "import numpy as np\n",
        "\n",
        "# Generamos una matriz aleatoria de 3x3 con valores entre 0 y 1\n",
        "matriz =np.random.rand(3,3)\n",
        "print(\"Matriz original:\")\n",
        "print(matriz)\n",
        "\n",
        "# Calculamos la transpuesta de la matriz\n",
        "matriz_transpuesta =matriz.T\n",
        "print(\"\\nMatriz transpuesta:\")\n",
        "print(matriz_transpuesta)"
      ],
      "metadata": {
        "colab": {
          "base_uri": "https://localhost:8080/"
        },
        "id": "7HotlHOaO23f",
        "outputId": "27e8027b-e0ba-4180-8d4e-c49117668b01"
      },
      "execution_count": null,
      "outputs": [
        {
          "output_type": "stream",
          "name": "stdout",
          "text": [
            "Matriz original:\n",
            "[[0.08398873 0.95638618 0.96482561]\n",
            " [0.84971334 0.77486281 0.63214301]\n",
            " [0.59253673 0.21203134 0.76696098]]\n",
            "\n",
            "Matriz transpuesta:\n",
            "[[0.08398873 0.84971334 0.59253673]\n",
            " [0.95638618 0.77486281 0.21203134]\n",
            " [0.96482561 0.63214301 0.76696098]]\n"
          ]
        }
      ]
    },
    {
      "cell_type": "markdown",
      "source": [
        "Concatena dos arreglos"
      ],
      "metadata": {
        "id": "muEZ2d0TR25l"
      }
    },
    {
      "cell_type": "code",
      "source": [
        "import numpy as np  # Importamos la biblioteca NumPy, que nos permite trabajar con arrays y operaciones\n",
        "#matemáticas.\n",
        "\n",
        "# Creamos dos arrays de NumPy con 5 valores cada uno.\n",
        "arreglo_1 = np.array([1, 2, 3, 4, 5])\n",
        "arreglo_2 = np.array([6, 7, 8, 9, 10])\n",
        "\n",
        "# Concatenamos los dos arrays usando la función np.concatenate y guardamos el resultado en una nueva\n",
        "#variable.\n",
        "arreglo_concatenado = np.concatenate((arreglo_1, arreglo_2))\n",
        "\n",
        "# Imprimimos el array concatenado.\n",
        "print(\"Arreglo concatenado:\", arreglo_concatenado)"
      ],
      "metadata": {
        "colab": {
          "base_uri": "https://localhost:8080/"
        },
        "id": "uAFxsA7OSTfy",
        "outputId": "934a9b4c-fccc-44ea-8b3e-1a667778539b"
      },
      "execution_count": null,
      "outputs": [
        {
          "output_type": "stream",
          "name": "stdout",
          "text": [
            "Arreglo concatenado: [ 1  2  3  4  5  6  7  8  9 10]\n"
          ]
        }
      ]
    }
  ]
}